{
 "cells": [
  {
   "cell_type": "code",
   "execution_count": 1,
   "id": "indie-buyer",
   "metadata": {
    "_cell_guid": "b1076dfc-b9ad-4769-8c92-a6c4dae69d19",
    "_uuid": "8f2839f25d086af736a60e9eeb907d3b93b6e0e5",
    "execution": {
     "iopub.execute_input": "2021-04-11T06:32:12.266972Z",
     "iopub.status.busy": "2021-04-11T06:32:12.265777Z",
     "iopub.status.idle": "2021-04-11T06:32:13.665680Z",
     "shell.execute_reply": "2021-04-11T06:32:13.664181Z"
    },
    "papermill": {
     "duration": 1.410629,
     "end_time": "2021-04-11T06:32:13.665891",
     "exception": false,
     "start_time": "2021-04-11T06:32:12.255262",
     "status": "completed"
    },
    "tags": []
   },
   "outputs": [],
   "source": [
    "# import libraries\n",
    "import pandas as pd\n",
    "from sklearn import linear_model"
   ]
  },
  {
   "cell_type": "code",
   "execution_count": 2,
   "id": "another-glass",
   "metadata": {
    "execution": {
     "iopub.execute_input": "2021-04-11T06:32:13.683265Z",
     "iopub.status.busy": "2021-04-11T06:32:13.682622Z",
     "iopub.status.idle": "2021-04-11T06:32:13.702238Z",
     "shell.execute_reply": "2021-04-11T06:32:13.702757Z"
    },
    "papermill": {
     "duration": 0.030696,
     "end_time": "2021-04-11T06:32:13.702948",
     "exception": false,
     "start_time": "2021-04-11T06:32:13.672252",
     "status": "completed"
    },
    "tags": []
   },
   "outputs": [],
   "source": [
    "# training df\n",
    "train_df = pd.read_csv('../input/osic-pulmonary-fibrosis-progression/train.csv')"
   ]
  },
  {
   "cell_type": "code",
   "execution_count": 3,
   "id": "clinical-profile",
   "metadata": {
    "execution": {
     "iopub.execute_input": "2021-04-11T06:32:13.736454Z",
     "iopub.status.busy": "2021-04-11T06:32:13.734061Z",
     "iopub.status.idle": "2021-04-11T06:32:13.747037Z",
     "shell.execute_reply": "2021-04-11T06:32:13.746311Z"
    },
    "papermill": {
     "duration": 0.038379,
     "end_time": "2021-04-11T06:32:13.747178",
     "exception": false,
     "start_time": "2021-04-11T06:32:13.708799",
     "status": "completed"
    },
    "tags": []
   },
   "outputs": [],
   "source": [
    "# data preprocessing step\n",
    "\n",
    "# remove 'patient id'\n",
    "train_df = train_df.drop(columns=['Patient'])\n",
    "\n",
    "# replace categorical variable 'Sex' to integer -> Male: 1, Female: 0\n",
    "train_df = train_df.replace({'Sex': 'Male'}, {'Sex': 1})\n",
    "\n",
    "train_df = train_df.replace({'Sex': 'Female'}, {'Sex': 0})\n",
    "\n",
    "# replace categorical variable 'SmokingStatus' to integer -> Currently smokes: 2, Ex-smoker: 1, Never smoked: 0\n",
    "train_df = train_df.replace({'SmokingStatus': 'Currently smokes'}, {'SmokingStatus': 2})\n",
    "\n",
    "train_df = train_df.replace({'SmokingStatus': 'Ex-smoker'}, {'SmokingStatus': 1})\n",
    "\n",
    "train_df = train_df.replace({'SmokingStatus': 'Never smoked'}, {'SmokingStatus': 0})"
   ]
  },
  {
   "cell_type": "code",
   "execution_count": 4,
   "id": "fifth-demographic",
   "metadata": {
    "execution": {
     "iopub.execute_input": "2021-04-11T06:32:13.787986Z",
     "iopub.status.busy": "2021-04-11T06:32:13.765535Z",
     "iopub.status.idle": "2021-04-11T06:32:13.792296Z",
     "shell.execute_reply": "2021-04-11T06:32:13.791539Z"
    },
    "papermill": {
     "duration": 0.039477,
     "end_time": "2021-04-11T06:32:13.792573",
     "exception": false,
     "start_time": "2021-04-11T06:32:13.753096",
     "status": "completed"
    },
    "tags": []
   },
   "outputs": [],
   "source": [
    "# create model\n",
    "\n",
    "# independent variables\n",
    "independent = pd.DataFrame(train_df, columns=['Percent', 'Age', 'Sex', 'SmokingStatus'])\n",
    "\n",
    "# dependent variables\n",
    "dependent = pd.DataFrame(train_df, columns=['Weeks', 'FVC'])\n",
    "\n",
    "lm = linear_model.LinearRegression()\n",
    "model = lm.fit(independent, dependent)"
   ]
  },
  {
   "cell_type": "code",
   "execution_count": 5,
   "id": "bright-dictionary",
   "metadata": {
    "execution": {
     "iopub.execute_input": "2021-04-11T06:32:13.811841Z",
     "iopub.status.busy": "2021-04-11T06:32:13.811068Z",
     "iopub.status.idle": "2021-04-11T06:32:13.820327Z",
     "shell.execute_reply": "2021-04-11T06:32:13.821286Z"
    },
    "papermill": {
     "duration": 0.022896,
     "end_time": "2021-04-11T06:32:13.821618",
     "exception": false,
     "start_time": "2021-04-11T06:32:13.798722",
     "status": "completed"
    },
    "tags": []
   },
   "outputs": [
    {
     "name": "stdout",
     "output_type": "stream",
     "text": [
      "training\n",
      "[[  29.67780606 2052.19816232]\n",
      " [  29.74421823 1970.23528977]\n",
      " [  29.84482281 1846.07371055]\n",
      " ...\n",
      " [  28.59637528 2652.2021038 ]\n",
      " [  28.55338418 2705.25975662]\n",
      " [  28.68235747 2546.08679816]]\n"
     ]
    }
   ],
   "source": [
    "# predictions\n",
    "predictions = lm.predict(independent)\n",
    "print(\"training\")\n",
    "print(predictions)"
   ]
  },
  {
   "cell_type": "code",
   "execution_count": 6,
   "id": "double-lodging",
   "metadata": {
    "execution": {
     "iopub.execute_input": "2021-04-11T06:32:13.847407Z",
     "iopub.status.busy": "2021-04-11T06:32:13.846749Z",
     "iopub.status.idle": "2021-04-11T06:32:13.879632Z",
     "shell.execute_reply": "2021-04-11T06:32:13.879051Z"
    },
    "papermill": {
     "duration": 0.050502,
     "end_time": "2021-04-11T06:32:13.879793",
     "exception": false,
     "start_time": "2021-04-11T06:32:13.829291",
     "status": "completed"
    },
    "tags": []
   },
   "outputs": [
    {
     "name": "stdout",
     "output_type": "stream",
     "text": [
      "                              0     1           2\n",
      "0                  Patient_Week   FVC  Confidence\n",
      "1  ID00419637202311204720264_30  2572         100\n",
      "2  ID00421637202311550012437_31  3066         100\n",
      "3  ID00422637202311677017371_30  2781         100\n",
      "4  ID00423637202312137826377_30  2887         100\n",
      "5  ID00426637202313170790466_29  2666         100\n"
     ]
    }
   ],
   "source": [
    "# testing pre-processing\n",
    "test_df = pd.read_csv('../input/osic-pulmonary-fibrosis-progression/test.csv')\n",
    "\n",
    "# remove 'patient id'\n",
    "test_df = test_df.drop(columns=['Patient'])\n",
    "\n",
    "# replace categorical variable 'Sex' to integer -> Male: 1, Female: 0\n",
    "test_df = test_df.replace({'Sex': 'Male'}, {'Sex': 1})\n",
    "\n",
    "test_df = test_df.replace({'Sex': 'Female'}, {'Sex': 0})\n",
    "\n",
    "# replace categorical variable 'SmokingStatus' to integer -> Currently smokes: 2, Ex-smoker: 1, Never smoked: 0\n",
    "test_df = test_df.replace({'SmokingStatus': 'Currently smokes'}, {'SmokingStatus': 2})\n",
    "\n",
    "test_df = test_df.replace({'SmokingStatus': 'Ex-smoker'}, {'SmokingStatus': 1})\n",
    "\n",
    "test_df = test_df.replace({'SmokingStatus': 'Never smoked'}, {'SmokingStatus': 0})\n",
    "\n",
    "\n",
    "testing_var = pd.DataFrame(test_df, columns=['Percent', 'Age', 'Sex', 'SmokingStatus'])\n",
    "testing_predictions = lm.predict(testing_var)\n",
    "\n",
    "array = []\n",
    "array.append(['Patient_Week', 'FVC', 'Confidence'])\n",
    "\n",
    "patient_arr = pd.read_csv('../input/osic-pulmonary-fibrosis-progression/test.csv')\n",
    "patient_arr = patient_arr.drop(columns=['Percent', 'Age', 'Sex', 'SmokingStatus', 'Weeks', 'FVC'])\n",
    "patient_arr = patient_arr.values.tolist()\n",
    "counter = 0\n",
    "\n",
    "for p in patient_arr:\n",
    "    a = testing_predictions[counter]\n",
    "    patient_id = p[0] + '_' + str(round(a[0]))\n",
    "    array.append([patient_id, round(a[1]), 100])\n",
    "    counter += 1 \n",
    "          \n",
    "\n",
    "results_df = pd.DataFrame(array)\n",
    "print(results_df)\n",
    "results_df.to_csv('submission.csv', index=False, header=False)"
   ]
  }
 ],
 "metadata": {
  "kernelspec": {
   "display_name": "Python 3",
   "language": "python",
   "name": "python3"
  },
  "language_info": {
   "codemirror_mode": {
    "name": "ipython",
    "version": 3
   },
   "file_extension": ".py",
   "mimetype": "text/x-python",
   "name": "python",
   "nbconvert_exporter": "python",
   "pygments_lexer": "ipython3",
   "version": "3.7.9"
  },
  "papermill": {
   "default_parameters": {},
   "duration": 9.346306,
   "end_time": "2021-04-11T06:32:14.599011",
   "environment_variables": {},
   "exception": null,
   "input_path": "__notebook__.ipynb",
   "output_path": "__notebook__.ipynb",
   "parameters": {},
   "start_time": "2021-04-11T06:32:05.252705",
   "version": "2.3.2"
  }
 },
 "nbformat": 4,
 "nbformat_minor": 5
}
